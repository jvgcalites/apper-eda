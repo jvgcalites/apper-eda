{
 "cells": [
  {
   "cell_type": "markdown",
   "metadata": {},
   "source": [
    "# Problem Set 1 CS129.18\n",
    "\n",
    "The following problem set will revolve around hourly Philippine weather data observations from 1978 to 2018 sourced from NOAA (National Oceanic and Atmospheric Administration). \n",
    "\n",
    "The dataset `PH_Weather_v1.csv` has **11** columns. The columns are described as follows.\n",
    "\n",
    "* **datetime** maps to a YYYYMMDDSSSS string datetime format.\n",
    "* **wind_direction** represents the recorded compass direction of the wind. \n",
    "* **wind_speed** is the wind speed recorded in MPH.\n",
    "* **gust_speed** is the gust speed recorded in MPH. NAN if no recording.\n",
    "* **sea_level_pressure** is sea level pressure in millibars estimated to the nearest tenth.\n",
    "* **temperature** is the recorded temperature in celsius.\n",
    "* **altitude** is the station altimeter recording in inches. NAN if no recording.\n",
    "* **precipitation** is the station hourly precipitation report in inches. NAN if no recording.\n",
    "* **clouds** is the station observed cloud report.\n",
    "    * CLR-CLEAR \n",
    "    * SCT-SCATTERED\n",
    "    * BKN-BROKEN\n",
    "    * OVC-OVERCAST, \n",
    "    * OBS-OBSCURED\n",
    "    * POB-PARTIAL OBSCURATION \n",
    "* **visibility** is the station observed visibility in miles\n",
    "* **humidity** is the station observed relative humidity"
   ]
  },
  {
   "cell_type": "markdown",
   "metadata": {},
   "source": [
    "## Requirements\n",
    "\n",
    "\n",
    ">Atmospheric Science is a complex system that works with factors that interact with each other. We might be able use these variables to estimate the value of one of the key indicators: Temperature.\n",
    "\n",
    "Using the lessons on Linear Regression I and II, and the other resource notebooks, show the following in this Jupyter Notebook.\n",
    "\n",
    "Write your answers down as Markdown cells or comments in the code.\n",
    "\n",
    "1. What is the dimensionality or shape of the data? ( 1pt )\n",
    "\n",
    "2. What is mean temperature for the year 2017? ( 3pts )\n",
    "\n",
    "3. Solve for the beta coefficients for the columns that you can use in your dataset to predict temperature. ( 4pts )\n",
    "\n",
    "4. Show the relationship between the variable with the highest beta coefficient and temperature (Use a plot). ( 5pts )\n",
    "\n",
    "5. Solve for the Mean Squared Error of your predicted temperature against the actual temperature. ( 2pts )\n",
    "\n",
    "6. Solve for the R^2 score of the linear model used to predict temperature. ( 2pts )\n",
    "\n",
    "7. Identify if the model is a good model and why. ( 3pts )\n",
    "\n",
    "\n",
    "\n",
    "-----\n",
    "\n"
   ]
  },
  {
   "cell_type": "code",
   "execution_count": 270,
   "metadata": {},
   "outputs": [],
   "source": [
    "%matplotlib inline\n",
    "\n",
    "import matplotlib.pylab as plt\n",
    "import numpy as np\n",
    "import pandas as pd"
   ]
  },
  {
   "cell_type": "code",
   "execution_count": 271,
   "metadata": {},
   "outputs": [],
   "source": [
    "df = pd.read_csv(\"data/PH_Weather_v1.csv\")"
   ]
  },
  {
   "cell_type": "code",
   "execution_count": 272,
   "metadata": {},
   "outputs": [
    {
     "data": {
      "text/html": [
       "<div>\n",
       "<style scoped>\n",
       "    .dataframe tbody tr th:only-of-type {\n",
       "        vertical-align: middle;\n",
       "    }\n",
       "\n",
       "    .dataframe tbody tr th {\n",
       "        vertical-align: top;\n",
       "    }\n",
       "\n",
       "    .dataframe thead th {\n",
       "        text-align: right;\n",
       "    }\n",
       "</style>\n",
       "<table border=\"1\" class=\"dataframe\">\n",
       "  <thead>\n",
       "    <tr style=\"text-align: right;\">\n",
       "      <th></th>\n",
       "      <th>datetime</th>\n",
       "      <th>wind_direction</th>\n",
       "      <th>wind_speed</th>\n",
       "      <th>gust_speed</th>\n",
       "      <th>sea_level_pressure</th>\n",
       "      <th>temperature</th>\n",
       "      <th>altitude</th>\n",
       "      <th>precipitation</th>\n",
       "      <th>clouds</th>\n",
       "      <th>visibility</th>\n",
       "      <th>humidity</th>\n",
       "    </tr>\n",
       "  </thead>\n",
       "  <tbody>\n",
       "    <tr>\n",
       "      <th>0</th>\n",
       "      <td>197809140300</td>\n",
       "      <td>160</td>\n",
       "      <td>2</td>\n",
       "      <td>NaN</td>\n",
       "      <td>1007.7</td>\n",
       "      <td>30</td>\n",
       "      <td>NaN</td>\n",
       "      <td>NaN</td>\n",
       "      <td>BKN</td>\n",
       "      <td>15.6</td>\n",
       "      <td>0.75</td>\n",
       "    </tr>\n",
       "    <tr>\n",
       "      <th>1</th>\n",
       "      <td>197810021500</td>\n",
       "      <td>0</td>\n",
       "      <td>0</td>\n",
       "      <td>NaN</td>\n",
       "      <td>1011.3</td>\n",
       "      <td>26</td>\n",
       "      <td>NaN</td>\n",
       "      <td>NaN</td>\n",
       "      <td>OVC</td>\n",
       "      <td>6.2</td>\n",
       "      <td>0.94</td>\n",
       "    </tr>\n",
       "    <tr>\n",
       "      <th>2</th>\n",
       "      <td>197810252100</td>\n",
       "      <td>360</td>\n",
       "      <td>9</td>\n",
       "      <td>NaN</td>\n",
       "      <td>1004.1</td>\n",
       "      <td>26</td>\n",
       "      <td>NaN</td>\n",
       "      <td>NaN</td>\n",
       "      <td>BKN</td>\n",
       "      <td>6.2</td>\n",
       "      <td>0.80</td>\n",
       "    </tr>\n",
       "    <tr>\n",
       "      <th>3</th>\n",
       "      <td>197810260000</td>\n",
       "      <td>360</td>\n",
       "      <td>21</td>\n",
       "      <td>NaN</td>\n",
       "      <td>1006.3</td>\n",
       "      <td>26</td>\n",
       "      <td>NaN</td>\n",
       "      <td>NaN</td>\n",
       "      <td>OVC</td>\n",
       "      <td>6.2</td>\n",
       "      <td>0.80</td>\n",
       "    </tr>\n",
       "    <tr>\n",
       "      <th>4</th>\n",
       "      <td>197811131500</td>\n",
       "      <td>0</td>\n",
       "      <td>0</td>\n",
       "      <td>NaN</td>\n",
       "      <td>1010.1</td>\n",
       "      <td>26</td>\n",
       "      <td>NaN</td>\n",
       "      <td>NaN</td>\n",
       "      <td>BKN</td>\n",
       "      <td>11.2</td>\n",
       "      <td>0.88</td>\n",
       "    </tr>\n",
       "  </tbody>\n",
       "</table>\n",
       "</div>"
      ],
      "text/plain": [
       "       datetime  wind_direction  wind_speed  gust_speed  sea_level_pressure  \\\n",
       "0  197809140300             160           2         NaN              1007.7   \n",
       "1  197810021500               0           0         NaN              1011.3   \n",
       "2  197810252100             360           9         NaN              1004.1   \n",
       "3  197810260000             360          21         NaN              1006.3   \n",
       "4  197811131500               0           0         NaN              1010.1   \n",
       "\n",
       "   temperature  altitude  precipitation clouds  visibility  humidity  \n",
       "0           30       NaN            NaN    BKN        15.6      0.75  \n",
       "1           26       NaN            NaN    OVC         6.2      0.94  \n",
       "2           26       NaN            NaN    BKN         6.2      0.80  \n",
       "3           26       NaN            NaN    OVC         6.2      0.80  \n",
       "4           26       NaN            NaN    BKN        11.2      0.88  "
      ]
     },
     "execution_count": 272,
     "metadata": {},
     "output_type": "execute_result"
    }
   ],
   "source": [
    "df.head()"
   ]
  },
  {
   "cell_type": "markdown",
   "metadata": {
    "tags": []
   },
   "source": [
    "### 1. Dimensionality or shape of data"
   ]
  },
  {
   "cell_type": "code",
   "execution_count": 273,
   "metadata": {},
   "outputs": [
    {
     "data": {
      "text/plain": [
       "(90565, 11)"
      ]
     },
     "execution_count": 273,
     "metadata": {},
     "output_type": "execute_result"
    }
   ],
   "source": [
    "df.shape"
   ]
  },
  {
   "cell_type": "markdown",
   "metadata": {},
   "source": [
    "### 2. Mean Temperature Year 2017"
   ]
  },
  {
   "cell_type": "code",
   "execution_count": 274,
   "metadata": {},
   "outputs": [],
   "source": [
    "df['datetime'] = pd.to_datetime(df['datetime'], format='%Y%m%d%H%S')\n",
    "# df.head(5)"
   ]
  },
  {
   "cell_type": "code",
   "execution_count": 275,
   "metadata": {},
   "outputs": [],
   "source": [
    "df['year'] = df['datetime'].dt.year\n",
    "# df.head(5)"
   ]
  },
  {
   "cell_type": "code",
   "execution_count": 276,
   "metadata": {},
   "outputs": [],
   "source": [
    "yearly_df = df.groupby(['year', 'datetime']).mean()\n",
    "# yearly_df.head(5)"
   ]
  },
  {
   "cell_type": "code",
   "execution_count": 277,
   "metadata": {},
   "outputs": [],
   "source": [
    "year_2017_df = yearly_df.loc[2017]\n",
    "# year_2017_df.head(5)"
   ]
  },
  {
   "cell_type": "code",
   "execution_count": 278,
   "metadata": {},
   "outputs": [
    {
     "data": {
      "text/plain": [
       "27.93335635359116"
      ]
     },
     "execution_count": 278,
     "metadata": {},
     "output_type": "execute_result"
    }
   ],
   "source": [
    "year_2017_df['temperature'].mean()"
   ]
  },
  {
   "cell_type": "markdown",
   "metadata": {
    "tags": []
   },
   "source": [
    "### 3. Beta Coefficients"
   ]
  },
  {
   "cell_type": "code",
   "execution_count": 279,
   "metadata": {},
   "outputs": [],
   "source": [
    "from sklearn.linear_model import LinearRegression\n",
    "\n",
    "X = pd.read_csv(\"data/PH_Weather_v1.csv\")\n",
    "# X.head(5)"
   ]
  },
  {
   "cell_type": "code",
   "execution_count": 280,
   "metadata": {},
   "outputs": [],
   "source": [
    "X = X.drop(X[X['clouds'] == '***'].index)\n",
    "df = df.drop(df[df['clouds'] == '***'].index)\n",
    "X['clouds'].replace({\n",
    "        'CLR': 0,\n",
    "        'SCT': 1,\n",
    "        'BKN': 2,\n",
    "        'OVC': 3,\n",
    "        'POB': 4,\n",
    "        'OBS': 5\n",
    "    }, \n",
    "    inplace=True\n",
    ")\n",
    "# X.head(5)"
   ]
  },
  {
   "cell_type": "code",
   "execution_count": 281,
   "metadata": {},
   "outputs": [],
   "source": [
    "X['datetime'] = pd.to_datetime(X['datetime'], format='%Y%m%d%H%S')\n",
    "X['month'] = df['datetime'].dt.month\n",
    "X['hour'] = df['datetime'].dt.hour\n",
    "# X.head(5)"
   ]
  },
  {
   "cell_type": "code",
   "execution_count": 282,
   "metadata": {},
   "outputs": [],
   "source": [
    "X = X.drop([\n",
    "    'temperature',\n",
    "    'gust_speed',\n",
    "    'altitude',  \n",
    "    'precipitation',\n",
    "    'datetime'\n",
    "    ], axis=1\n",
    ")\n",
    "# X.info()"
   ]
  },
  {
   "cell_type": "code",
   "execution_count": 283,
   "metadata": {},
   "outputs": [
    {
     "name": "stdout",
     "output_type": "stream",
     "text": [
      "Coefficient values[ 1.07677410e-03  7.11925554e-02 -4.57799834e-05  8.98690750e-02\n",
      "  1.03877617e-01 -1.08861676e+01  9.13332143e-02 -5.26992876e-02]\n"
     ]
    }
   ],
   "source": [
    "linear_model = LinearRegression()\n",
    "linear_model.fit(X, df['temperature'])\n",
    "print(f\"Coefficient values{linear_model.coef_}\")"
   ]
  },
  {
   "cell_type": "code",
   "execution_count": 284,
   "metadata": {},
   "outputs": [
    {
     "data": {
      "text/html": [
       "<div>\n",
       "<style scoped>\n",
       "    .dataframe tbody tr th:only-of-type {\n",
       "        vertical-align: middle;\n",
       "    }\n",
       "\n",
       "    .dataframe tbody tr th {\n",
       "        vertical-align: top;\n",
       "    }\n",
       "\n",
       "    .dataframe thead th {\n",
       "        text-align: right;\n",
       "    }\n",
       "</style>\n",
       "<table border=\"1\" class=\"dataframe\">\n",
       "  <thead>\n",
       "    <tr style=\"text-align: right;\">\n",
       "      <th></th>\n",
       "      <th>variable</th>\n",
       "      <th>beta_coefficient</th>\n",
       "    </tr>\n",
       "  </thead>\n",
       "  <tbody>\n",
       "    <tr>\n",
       "      <th>0</th>\n",
       "      <td>wind_direction</td>\n",
       "      <td>0.001077</td>\n",
       "    </tr>\n",
       "    <tr>\n",
       "      <th>1</th>\n",
       "      <td>wind_speed</td>\n",
       "      <td>0.071193</td>\n",
       "    </tr>\n",
       "    <tr>\n",
       "      <th>2</th>\n",
       "      <td>sea_level_pressure</td>\n",
       "      <td>-0.000046</td>\n",
       "    </tr>\n",
       "    <tr>\n",
       "      <th>3</th>\n",
       "      <td>clouds</td>\n",
       "      <td>0.089869</td>\n",
       "    </tr>\n",
       "    <tr>\n",
       "      <th>4</th>\n",
       "      <td>visibility</td>\n",
       "      <td>0.103878</td>\n",
       "    </tr>\n",
       "    <tr>\n",
       "      <th>5</th>\n",
       "      <td>humidity</td>\n",
       "      <td>-10.886168</td>\n",
       "    </tr>\n",
       "    <tr>\n",
       "      <th>6</th>\n",
       "      <td>month</td>\n",
       "      <td>0.091333</td>\n",
       "    </tr>\n",
       "    <tr>\n",
       "      <th>7</th>\n",
       "      <td>hour</td>\n",
       "      <td>-0.052699</td>\n",
       "    </tr>\n",
       "  </tbody>\n",
       "</table>\n",
       "</div>"
      ],
      "text/plain": [
       "             variable  beta_coefficient\n",
       "0      wind_direction          0.001077\n",
       "1          wind_speed          0.071193\n",
       "2  sea_level_pressure         -0.000046\n",
       "3              clouds          0.089869\n",
       "4          visibility          0.103878\n",
       "5            humidity        -10.886168\n",
       "6               month          0.091333\n",
       "7                hour         -0.052699"
      ]
     },
     "execution_count": 284,
     "metadata": {},
     "output_type": "execute_result"
    }
   ],
   "source": [
    "beta_coeff_df = pd.DataFrame(\n",
    "    list(zip(X.columns, linear_model.coef_)), \n",
    "    columns='variable beta_coefficient'.split()\n",
    ")\n",
    "beta_coeff_df"
   ]
  },
  {
   "cell_type": "markdown",
   "metadata": {},
   "source": [
    "### 4. Highest beta coefficient and temperature relationship"
   ]
  },
  {
   "cell_type": "code",
   "execution_count": 285,
   "metadata": {},
   "outputs": [
    {
     "data": {
      "text/plain": [
       "variable             humidity\n",
       "beta_coefficient   -10.886168\n",
       "Name: 5, dtype: object"
      ]
     },
     "execution_count": 285,
     "metadata": {},
     "output_type": "execute_result"
    }
   ],
   "source": [
    "beta_coeff_df.iloc[beta_coeff_df['beta_coefficient'].abs().idxmax()]"
   ]
  },
  {
   "cell_type": "code",
   "execution_count": 286,
   "metadata": {},
   "outputs": [
    {
     "data": {
      "text/plain": [
       "Text(0.5, 1.0, 'Relationship between Humidity and Temperature')"
      ]
     },
     "execution_count": 286,
     "metadata": {},
     "output_type": "execute_result"
    },
    {
     "data": {
      "image/png": "[encoded data removed]",
      "text/plain": [
       "<Figure size 720x576 with 1 Axes>"
      ]
     },
     "metadata": {},
     "output_type": "display_data"
    }
   ],
   "source": [
    "plt.style.use('fivethirtyeight')\n",
    "plt.figure(figsize=(10,8))\n",
    "\n",
    "plt.scatter(X[\"humidity\"], df[\"temperature\"])\n",
    "plt.xlabel(\"Humidity\")\n",
    "plt.ylabel(\"Temperature\")\n",
    "plt.title(\"Relationship between Humidity and Temperature\")"
   ]
  },
  {
   "cell_type": "markdown",
   "metadata": {},
   "source": [
    "### 5. Mean Squared Error"
   ]
  },
  {
   "cell_type": "code",
   "execution_count": 287,
   "metadata": {},
   "outputs": [
    {
     "data": {
      "text/plain": [
       "Text(0.5, 1.0, 'Temperature vs Predicted Temperature')"
      ]
     },
     "execution_count": 287,
     "metadata": {},
     "output_type": "execute_result"
    },
    {
     "data": {
      "image/png": "[encoded data removed]",
      "text/plain": [
       "<Figure size 720x576 with 1 Axes>"
      ]
     },
     "metadata": {},
     "output_type": "display_data"
    }
   ],
   "source": [
    "plt.figure(figsize=(10,8))\n",
    "\n",
    "\n",
    "plt.scatter(df[\"temperature\"], linear_model.predict(X))\n",
    "plt.plot([0, 50], [0, 50], '--go')\n",
    "plt.xlabel(\"Temperature: $Y_i$\")\n",
    "plt.ylabel(\"Predicted Temperature: $\\hat{Y}_i$\")\n",
    "plt.title(\"Temperature vs Predicted Temperature\")"
   ]
  },
  {
   "cell_type": "code",
   "execution_count": 288,
   "metadata": {},
   "outputs": [
    {
     "data": {
      "text/plain": [
       "2.541065377549633"
      ]
     },
     "execution_count": 288,
     "metadata": {},
     "output_type": "execute_result"
    }
   ],
   "source": [
    "mean_squared_error = np.mean((df[\"temperature\"] - linear_model.predict(X))**2)\n",
    "mean_squared_error"
   ]
  },
  {
   "cell_type": "markdown",
   "metadata": {},
   "source": [
    "### 6. R^2 score"
   ]
  },
  {
   "cell_type": "code",
   "execution_count": 289,
   "metadata": {},
   "outputs": [
    {
     "data": {
      "text/plain": [
       "0.5156921713874774"
      ]
     },
     "execution_count": 289,
     "metadata": {},
     "output_type": "execute_result"
    }
   ],
   "source": [
    "linear_model.score(X, df[\"temperature\"])"
   ]
  },
  {
   "cell_type": "markdown",
   "metadata": {},
   "source": [
    "### 7. Is the model a good model?"
   ]
  },
  {
   "cell_type": "markdown",
   "metadata": {},
   "source": [
    "No. Though, the model can be improve by adding more significant variables for predicting temperature, as the humidity variable is the only major predictor of temperature."
   ]
  }
 ],
 "metadata": {
  "kernelspec": {
   "display_name": "Python 3 (ipykernel)",
   "language": "python",
   "name": "python3"
  },
  "language_info": {
   "codemirror_mode": {
    "name": "ipython",
    "version": 3
   },
   "file_extension": ".py",
   "mimetype": "text/x-python",
   "name": "python",
   "nbconvert_exporter": "python",
   "pygments_lexer": "ipython3",
   "version": "3.9.7"
  }
 },
 "nbformat": 4,
 "nbformat_minor": 4
}
