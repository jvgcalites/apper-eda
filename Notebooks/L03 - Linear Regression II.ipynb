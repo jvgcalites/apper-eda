{
 "cells": [
  {
   "cell_type": "code",
   "execution_count": 1,
   "metadata": {},
   "outputs": [],
   "source": [
    "%matplotlib inline\n",
    "\n",
    "import matplotlib.pylab as plt\n",
    "import numpy as np\n",
    "import pandas as pd\n",
    "import seaborn as sns"
   ]
  },
  {
   "cell_type": "code",
   "execution_count": 2,
   "metadata": {},
   "outputs": [],
   "source": [
    "df = pd.read_csv(\"data/privheifacultystudratio20122013.csv\")\n",
    "df = df.dropna()"
   ]
  },
  {
   "cell_type": "code",
   "execution_count": 5,
   "metadata": {},
   "outputs": [
    {
     "data": {
      "text/html": [
       "<div>\n",
       "<style scoped>\n",
       "    .dataframe tbody tr th:only-of-type {\n",
       "        vertical-align: middle;\n",
       "    }\n",
       "\n",
       "    .dataframe tbody tr th {\n",
       "        vertical-align: top;\n",
       "    }\n",
       "\n",
       "    .dataframe thead th {\n",
       "        text-align: right;\n",
       "    }\n",
       "</style>\n",
       "<table border=\"1\" class=\"dataframe\">\n",
       "  <thead>\n",
       "    <tr style=\"text-align: right;\">\n",
       "      <th></th>\n",
       "      <th>region</th>\n",
       "      <th>higher_education_institution</th>\n",
       "      <th>number_of_students</th>\n",
       "      <th>number_of_faculty</th>\n",
       "      <th>faculty_student_ratio</th>\n",
       "    </tr>\n",
       "  </thead>\n",
       "  <tbody>\n",
       "    <tr>\n",
       "      <th>0</th>\n",
       "      <td>Region I</td>\n",
       "      <td>The Adelphi College</td>\n",
       "      <td>405</td>\n",
       "      <td>26</td>\n",
       "      <td>1 is to 16</td>\n",
       "    </tr>\n",
       "    <tr>\n",
       "      <th>1</th>\n",
       "      <td>Region I</td>\n",
       "      <td>Malasiqui Agno Valley College</td>\n",
       "      <td>450</td>\n",
       "      <td>31</td>\n",
       "      <td>1 is to 15</td>\n",
       "    </tr>\n",
       "    <tr>\n",
       "      <th>2</th>\n",
       "      <td>Region I</td>\n",
       "      <td>Agoo Computer College Philippines</td>\n",
       "      <td>56</td>\n",
       "      <td>14</td>\n",
       "      <td>1 is to 4</td>\n",
       "    </tr>\n",
       "    <tr>\n",
       "      <th>3</th>\n",
       "      <td>Region I</td>\n",
       "      <td>Asbury College</td>\n",
       "      <td>357</td>\n",
       "      <td>11</td>\n",
       "      <td>1 is to 32</td>\n",
       "    </tr>\n",
       "    <tr>\n",
       "      <th>4</th>\n",
       "      <td>Region I</td>\n",
       "      <td>Asia Career College Foundation</td>\n",
       "      <td>212</td>\n",
       "      <td>15</td>\n",
       "      <td>1 is to 14</td>\n",
       "    </tr>\n",
       "    <tr>\n",
       "      <th>...</th>\n",
       "      <td>...</td>\n",
       "      <td>...</td>\n",
       "      <td>...</td>\n",
       "      <td>...</td>\n",
       "      <td>...</td>\n",
       "    </tr>\n",
       "    <tr>\n",
       "      <th>1597</th>\n",
       "      <td>Region IV-B</td>\n",
       "      <td>ACLC College of Calapan</td>\n",
       "      <td>201</td>\n",
       "      <td>19</td>\n",
       "      <td>1 is to 11</td>\n",
       "    </tr>\n",
       "    <tr>\n",
       "      <th>1598</th>\n",
       "      <td>Region IV-B</td>\n",
       "      <td>Pinamalayan Maritime Foundation and Technologi...</td>\n",
       "      <td>365</td>\n",
       "      <td>22</td>\n",
       "      <td>1 is to 17</td>\n",
       "    </tr>\n",
       "    <tr>\n",
       "      <th>1599</th>\n",
       "      <td>Region IV-B</td>\n",
       "      <td>STI College-Puerto Princesa</td>\n",
       "      <td>139</td>\n",
       "      <td>15</td>\n",
       "      <td>1 is to 9</td>\n",
       "    </tr>\n",
       "    <tr>\n",
       "      <th>1600</th>\n",
       "      <td>Region IV-B</td>\n",
       "      <td>Remnant Christian College-Palawan</td>\n",
       "      <td>ND</td>\n",
       "      <td>8</td>\n",
       "      <td>ND</td>\n",
       "    </tr>\n",
       "    <tr>\n",
       "      <th>1601</th>\n",
       "      <td>Region IV-B</td>\n",
       "      <td>Luna Goco College-Roxas</td>\n",
       "      <td>4</td>\n",
       "      <td>6</td>\n",
       "      <td>1 is to 1</td>\n",
       "    </tr>\n",
       "  </tbody>\n",
       "</table>\n",
       "<p>1602 rows × 5 columns</p>\n",
       "</div>"
      ],
      "text/plain": [
       "           region                       higher_education_institution  \\\n",
       "0        Region I                                The Adelphi College   \n",
       "1        Region I                      Malasiqui Agno Valley College   \n",
       "2        Region I                  Agoo Computer College Philippines   \n",
       "3        Region I                                     Asbury College   \n",
       "4        Region I                     Asia Career College Foundation   \n",
       "...           ...                                                ...   \n",
       "1597  Region IV-B                            ACLC College of Calapan   \n",
       "1598  Region IV-B  Pinamalayan Maritime Foundation and Technologi...   \n",
       "1599  Region IV-B                        STI College-Puerto Princesa   \n",
       "1600  Region IV-B                  Remnant Christian College-Palawan   \n",
       "1601  Region IV-B                            Luna Goco College-Roxas   \n",
       "\n",
       "     number_of_students number_of_faculty faculty_student_ratio  \n",
       "0                   405                26            1 is to 16  \n",
       "1                   450                31            1 is to 15  \n",
       "2                    56                14             1 is to 4  \n",
       "3                   357                11            1 is to 32  \n",
       "4                   212                15            1 is to 14  \n",
       "...                 ...               ...                   ...  \n",
       "1597                201                19            1 is to 11  \n",
       "1598                365                22            1 is to 17  \n",
       "1599                139                15             1 is to 9  \n",
       "1600                 ND                 8                    ND  \n",
       "1601                  4                 6             1 is to 1  \n",
       "\n",
       "[1602 rows x 5 columns]"
      ]
     },
     "execution_count": 5,
     "metadata": {},
     "output_type": "execute_result"
    }
   ],
   "source": [
    "df"
   ]
  },
  {
   "cell_type": "code",
   "execution_count": 4,
   "metadata": {},
   "outputs": [
    {
     "data": {
      "text/plain": [
       "(1602, 5)"
      ]
     },
     "execution_count": 4,
     "metadata": {},
     "output_type": "execute_result"
    }
   ],
   "source": [
    "df.shape"
   ]
  },
  {
   "cell_type": "code",
   "execution_count": 7,
   "metadata": {},
   "outputs": [
    {
     "data": {
      "text/html": [
       "<div>\n",
       "<style scoped>\n",
       "    .dataframe tbody tr th:only-of-type {\n",
       "        vertical-align: middle;\n",
       "    }\n",
       "\n",
       "    .dataframe tbody tr th {\n",
       "        vertical-align: top;\n",
       "    }\n",
       "\n",
       "    .dataframe thead th {\n",
       "        text-align: right;\n",
       "    }\n",
       "</style>\n",
       "<table border=\"1\" class=\"dataframe\">\n",
       "  <thead>\n",
       "    <tr style=\"text-align: right;\">\n",
       "      <th></th>\n",
       "      <th>region</th>\n",
       "      <th>higher_education_institution</th>\n",
       "      <th>number_of_students</th>\n",
       "      <th>number_of_faculty</th>\n",
       "      <th>faculty_student_ratio</th>\n",
       "    </tr>\n",
       "  </thead>\n",
       "  <tbody>\n",
       "    <tr>\n",
       "      <th>2</th>\n",
       "      <td>Region I</td>\n",
       "      <td>Agoo Computer College Philippines</td>\n",
       "      <td>56</td>\n",
       "      <td>14</td>\n",
       "      <td>1 is to 4</td>\n",
       "    </tr>\n",
       "    <tr>\n",
       "      <th>9</th>\n",
       "      <td>Region I</td>\n",
       "      <td>Data Center College of the Philippines-Laoag City</td>\n",
       "      <td>1224</td>\n",
       "      <td>56</td>\n",
       "      <td>1 is to 22</td>\n",
       "    </tr>\n",
       "    <tr>\n",
       "      <th>23</th>\n",
       "      <td>Region I</td>\n",
       "      <td>Northern Philippines College for Maritime, Sci...</td>\n",
       "      <td>2896</td>\n",
       "      <td>87</td>\n",
       "      <td>1 is to 33</td>\n",
       "    </tr>\n",
       "    <tr>\n",
       "      <th>27</th>\n",
       "      <td>Region I</td>\n",
       "      <td>Panpacific University North Philippines-Urdane...</td>\n",
       "      <td>6689</td>\n",
       "      <td>194</td>\n",
       "      <td>1 is to 34</td>\n",
       "    </tr>\n",
       "    <tr>\n",
       "      <th>55</th>\n",
       "      <td>Region I</td>\n",
       "      <td>Data Center College of the Philippines-Vigan City</td>\n",
       "      <td>197</td>\n",
       "      <td>11</td>\n",
       "      <td>1 is to 18</td>\n",
       "    </tr>\n",
       "  </tbody>\n",
       "</table>\n",
       "</div>"
      ],
      "text/plain": [
       "      region                       higher_education_institution  \\\n",
       "2   Region I                  Agoo Computer College Philippines   \n",
       "9   Region I  Data Center College of the Philippines-Laoag City   \n",
       "23  Region I  Northern Philippines College for Maritime, Sci...   \n",
       "27  Region I  Panpacific University North Philippines-Urdane...   \n",
       "55  Region I  Data Center College of the Philippines-Vigan City   \n",
       "\n",
       "   number_of_students number_of_faculty faculty_student_ratio  \n",
       "2                  56                14             1 is to 4  \n",
       "9                1224                56            1 is to 22  \n",
       "23               2896                87            1 is to 33  \n",
       "27               6689               194            1 is to 34  \n",
       "55                197                11            1 is to 18  "
      ]
     },
     "execution_count": 7,
     "metadata": {},
     "output_type": "execute_result"
    }
   ],
   "source": [
    "df[df[\"higher_education_institution\"].str.contains(\"Philippines\")].head()"
   ]
  },
  {
   "cell_type": "code",
   "execution_count": 8,
   "metadata": {},
   "outputs": [
    {
     "data": {
      "text/plain": [
       "region                          object\n",
       "higher_education_institution    object\n",
       "number_of_students              object\n",
       "number_of_faculty               object\n",
       "faculty_student_ratio           object\n",
       "dtype: object"
      ]
     },
     "execution_count": 8,
     "metadata": {},
     "output_type": "execute_result"
    }
   ],
   "source": [
    "df.dtypes"
   ]
  },
  {
   "cell_type": "code",
   "execution_count": 9,
   "metadata": {},
   "outputs": [
    {
     "data": {
      "text/html": [
       "<div>\n",
       "<style scoped>\n",
       "    .dataframe tbody tr th:only-of-type {\n",
       "        vertical-align: middle;\n",
       "    }\n",
       "\n",
       "    .dataframe tbody tr th {\n",
       "        vertical-align: top;\n",
       "    }\n",
       "\n",
       "    .dataframe thead th {\n",
       "        text-align: right;\n",
       "    }\n",
       "</style>\n",
       "<table border=\"1\" class=\"dataframe\">\n",
       "  <thead>\n",
       "    <tr style=\"text-align: right;\">\n",
       "      <th></th>\n",
       "      <th>region</th>\n",
       "      <th>higher_education_institution</th>\n",
       "      <th>number_of_students</th>\n",
       "      <th>number_of_faculty</th>\n",
       "      <th>faculty_student_ratio</th>\n",
       "    </tr>\n",
       "  </thead>\n",
       "  <tbody>\n",
       "    <tr>\n",
       "      <th>1597</th>\n",
       "      <td>Region IV-B</td>\n",
       "      <td>ACLC College of Calapan</td>\n",
       "      <td>201</td>\n",
       "      <td>19</td>\n",
       "      <td>1 is to 11</td>\n",
       "    </tr>\n",
       "    <tr>\n",
       "      <th>1598</th>\n",
       "      <td>Region IV-B</td>\n",
       "      <td>Pinamalayan Maritime Foundation and Technologi...</td>\n",
       "      <td>365</td>\n",
       "      <td>22</td>\n",
       "      <td>1 is to 17</td>\n",
       "    </tr>\n",
       "    <tr>\n",
       "      <th>1599</th>\n",
       "      <td>Region IV-B</td>\n",
       "      <td>STI College-Puerto Princesa</td>\n",
       "      <td>139</td>\n",
       "      <td>15</td>\n",
       "      <td>1 is to 9</td>\n",
       "    </tr>\n",
       "    <tr>\n",
       "      <th>1600</th>\n",
       "      <td>Region IV-B</td>\n",
       "      <td>Remnant Christian College-Palawan</td>\n",
       "      <td>ND</td>\n",
       "      <td>8</td>\n",
       "      <td>ND</td>\n",
       "    </tr>\n",
       "    <tr>\n",
       "      <th>1601</th>\n",
       "      <td>Region IV-B</td>\n",
       "      <td>Luna Goco College-Roxas</td>\n",
       "      <td>4</td>\n",
       "      <td>6</td>\n",
       "      <td>1 is to 1</td>\n",
       "    </tr>\n",
       "  </tbody>\n",
       "</table>\n",
       "</div>"
      ],
      "text/plain": [
       "           region                       higher_education_institution  \\\n",
       "1597  Region IV-B                            ACLC College of Calapan   \n",
       "1598  Region IV-B  Pinamalayan Maritime Foundation and Technologi...   \n",
       "1599  Region IV-B                        STI College-Puerto Princesa   \n",
       "1600  Region IV-B                  Remnant Christian College-Palawan   \n",
       "1601  Region IV-B                            Luna Goco College-Roxas   \n",
       "\n",
       "     number_of_students number_of_faculty faculty_student_ratio  \n",
       "1597                201                19            1 is to 11  \n",
       "1598                365                22            1 is to 17  \n",
       "1599                139                15             1 is to 9  \n",
       "1600                 ND                 8                    ND  \n",
       "1601                  4                 6             1 is to 1  "
      ]
     },
     "execution_count": 9,
     "metadata": {},
     "output_type": "execute_result"
    }
   ],
   "source": [
    "df.tail()"
   ]
  },
  {
   "cell_type": "code",
   "execution_count": 10,
   "metadata": {},
   "outputs": [],
   "source": [
    "df[\"number_of_faculty\"] = pd.to_numeric(df[\"number_of_faculty\"], errors='cnpoerce')\n",
    "df[\"number_of_students\"] = pd.to_numeric(df[\"number_of_students\"], errors='coerce')"
   ]
  },
  {
   "cell_type": "code",
   "execution_count": 11,
   "metadata": {},
   "outputs": [
    {
     "data": {
      "text/html": [
       "<div>\n",
       "<style scoped>\n",
       "    .dataframe tbody tr th:only-of-type {\n",
       "        vertical-align: middle;\n",
       "    }\n",
       "\n",
       "    .dataframe tbody tr th {\n",
       "        vertical-align: top;\n",
       "    }\n",
       "\n",
       "    .dataframe thead th {\n",
       "        text-align: right;\n",
       "    }\n",
       "</style>\n",
       "<table border=\"1\" class=\"dataframe\">\n",
       "  <thead>\n",
       "    <tr style=\"text-align: right;\">\n",
       "      <th></th>\n",
       "      <th>region</th>\n",
       "      <th>higher_education_institution</th>\n",
       "      <th>number_of_students</th>\n",
       "      <th>number_of_faculty</th>\n",
       "      <th>faculty_student_ratio</th>\n",
       "    </tr>\n",
       "  </thead>\n",
       "  <tbody>\n",
       "    <tr>\n",
       "      <th>1597</th>\n",
       "      <td>Region IV-B</td>\n",
       "      <td>ACLC College of Calapan</td>\n",
       "      <td>201.0</td>\n",
       "      <td>19.0</td>\n",
       "      <td>1 is to 11</td>\n",
       "    </tr>\n",
       "    <tr>\n",
       "      <th>1598</th>\n",
       "      <td>Region IV-B</td>\n",
       "      <td>Pinamalayan Maritime Foundation and Technologi...</td>\n",
       "      <td>365.0</td>\n",
       "      <td>22.0</td>\n",
       "      <td>1 is to 17</td>\n",
       "    </tr>\n",
       "    <tr>\n",
       "      <th>1599</th>\n",
       "      <td>Region IV-B</td>\n",
       "      <td>STI College-Puerto Princesa</td>\n",
       "      <td>139.0</td>\n",
       "      <td>15.0</td>\n",
       "      <td>1 is to 9</td>\n",
       "    </tr>\n",
       "    <tr>\n",
       "      <th>1600</th>\n",
       "      <td>Region IV-B</td>\n",
       "      <td>Remnant Christian College-Palawan</td>\n",
       "      <td>NaN</td>\n",
       "      <td>8.0</td>\n",
       "      <td>ND</td>\n",
       "    </tr>\n",
       "    <tr>\n",
       "      <th>1601</th>\n",
       "      <td>Region IV-B</td>\n",
       "      <td>Luna Goco College-Roxas</td>\n",
       "      <td>4.0</td>\n",
       "      <td>6.0</td>\n",
       "      <td>1 is to 1</td>\n",
       "    </tr>\n",
       "  </tbody>\n",
       "</table>\n",
       "</div>"
      ],
      "text/plain": [
       "           region                       higher_education_institution  \\\n",
       "1597  Region IV-B                            ACLC College of Calapan   \n",
       "1598  Region IV-B  Pinamalayan Maritime Foundation and Technologi...   \n",
       "1599  Region IV-B                        STI College-Puerto Princesa   \n",
       "1600  Region IV-B                  Remnant Christian College-Palawan   \n",
       "1601  Region IV-B                            Luna Goco College-Roxas   \n",
       "\n",
       "      number_of_students  number_of_faculty faculty_student_ratio  \n",
       "1597               201.0               19.0            1 is to 11  \n",
       "1598               365.0               22.0            1 is to 17  \n",
       "1599               139.0               15.0             1 is to 9  \n",
       "1600                 NaN                8.0                    ND  \n",
       "1601                 4.0                6.0             1 is to 1  "
      ]
     },
     "execution_count": 11,
     "metadata": {},
     "output_type": "execute_result"
    }
   ],
   "source": [
    "df.tail()"
   ]
  },
  {
   "cell_type": "code",
   "execution_count": 12,
   "metadata": {},
   "outputs": [
    {
     "data": {
      "text/html": [
       "<div>\n",
       "<style scoped>\n",
       "    .dataframe tbody tr th:only-of-type {\n",
       "        vertical-align: middle;\n",
       "    }\n",
       "\n",
       "    .dataframe tbody tr th {\n",
       "        vertical-align: top;\n",
       "    }\n",
       "\n",
       "    .dataframe thead th {\n",
       "        text-align: right;\n",
       "    }\n",
       "</style>\n",
       "<table border=\"1\" class=\"dataframe\">\n",
       "  <thead>\n",
       "    <tr style=\"text-align: right;\">\n",
       "      <th></th>\n",
       "      <th>region</th>\n",
       "      <th>higher_education_institution</th>\n",
       "      <th>number_of_students</th>\n",
       "      <th>number_of_faculty</th>\n",
       "      <th>faculty_student_ratio</th>\n",
       "    </tr>\n",
       "  </thead>\n",
       "  <tbody>\n",
       "    <tr>\n",
       "      <th>1596</th>\n",
       "      <td>Region IV-B</td>\n",
       "      <td>Philippine Central Islands College Foundation</td>\n",
       "      <td>136.0</td>\n",
       "      <td>20.0</td>\n",
       "      <td>1 is to 7</td>\n",
       "    </tr>\n",
       "    <tr>\n",
       "      <th>1597</th>\n",
       "      <td>Region IV-B</td>\n",
       "      <td>ACLC College of Calapan</td>\n",
       "      <td>201.0</td>\n",
       "      <td>19.0</td>\n",
       "      <td>1 is to 11</td>\n",
       "    </tr>\n",
       "    <tr>\n",
       "      <th>1598</th>\n",
       "      <td>Region IV-B</td>\n",
       "      <td>Pinamalayan Maritime Foundation and Technologi...</td>\n",
       "      <td>365.0</td>\n",
       "      <td>22.0</td>\n",
       "      <td>1 is to 17</td>\n",
       "    </tr>\n",
       "    <tr>\n",
       "      <th>1599</th>\n",
       "      <td>Region IV-B</td>\n",
       "      <td>STI College-Puerto Princesa</td>\n",
       "      <td>139.0</td>\n",
       "      <td>15.0</td>\n",
       "      <td>1 is to 9</td>\n",
       "    </tr>\n",
       "    <tr>\n",
       "      <th>1601</th>\n",
       "      <td>Region IV-B</td>\n",
       "      <td>Luna Goco College-Roxas</td>\n",
       "      <td>4.0</td>\n",
       "      <td>6.0</td>\n",
       "      <td>1 is to 1</td>\n",
       "    </tr>\n",
       "  </tbody>\n",
       "</table>\n",
       "</div>"
      ],
      "text/plain": [
       "           region                       higher_education_institution  \\\n",
       "1596  Region IV-B      Philippine Central Islands College Foundation   \n",
       "1597  Region IV-B                            ACLC College of Calapan   \n",
       "1598  Region IV-B  Pinamalayan Maritime Foundation and Technologi...   \n",
       "1599  Region IV-B                        STI College-Puerto Princesa   \n",
       "1601  Region IV-B                            Luna Goco College-Roxas   \n",
       "\n",
       "      number_of_students  number_of_faculty faculty_student_ratio  \n",
       "1596               136.0               20.0             1 is to 7  \n",
       "1597               201.0               19.0            1 is to 11  \n",
       "1598               365.0               22.0            1 is to 17  \n",
       "1599               139.0               15.0             1 is to 9  \n",
       "1601                 4.0                6.0             1 is to 1  "
      ]
     },
     "execution_count": 12,
     "metadata": {},
     "output_type": "execute_result"
    }
   ],
   "source": [
    "df = df.dropna()\n",
    "df.tail()"
   ]
  },
  {
   "cell_type": "code",
   "execution_count": 13,
   "metadata": {},
   "outputs": [
    {
     "data": {
      "text/plain": [
       "(1556, 5)"
      ]
     },
     "execution_count": 13,
     "metadata": {},
     "output_type": "execute_result"
    }
   ],
   "source": [
    "df.shape"
   ]
  },
  {
   "cell_type": "code",
   "execution_count": 14,
   "metadata": {},
   "outputs": [
    {
     "data": {
      "text/plain": [
       "Text(0, 0.5, 'Frequency')"
      ]
     },
     "execution_count": 14,
     "metadata": {},
     "output_type": "execute_result"
    },
    {
     "data": {
      "image/png": "[encoded data removed]",
      "text/plain": [
       "<Figure size 720x504 with 1 Axes>"
      ]
     },
     "metadata": {
      "needs_background": "light"
     },
     "output_type": "display_data"
    }
   ],
   "source": [
    "df[\"number_of_faculty\"].plot(kind='hist',figsize=(10,7))\n",
    "plt.title('Distribution of Faculty', size=24)\n",
    "plt.xlabel('Faculty', size=18)\n",
    "plt.ylabel('Frequency', size=18)\n"
   ]
  },
  {
   "cell_type": "code",
   "execution_count": 15,
   "metadata": {},
   "outputs": [
    {
     "data": {
      "text/plain": [
       "Text(0, 0.5, 'Frequency')"
      ]
     },
     "execution_count": 15,
     "metadata": {},
     "output_type": "execute_result"
    },
    {
     "data": {
      "image/png": "[encoded data removed]",
      "text/plain": [
       "<Figure size 720x504 with 1 Axes>"
      ]
     },
     "metadata": {
      "needs_background": "light"
     },
     "output_type": "display_data"
    }
   ],
   "source": [
    "df[\"number_of_students\"].plot(kind='hist',figsize=(10,7))\n",
    "plt.title('Distribution of Population', size=24)\n",
    "plt.xlabel('Population', size=18)\n",
    "plt.ylabel('Frequency', size=18)"
   ]
  },
  {
   "cell_type": "code",
   "execution_count": 16,
   "metadata": {},
   "outputs": [
    {
     "data": {
      "text/plain": [
       "<AxesSubplot:>"
      ]
     },
     "execution_count": 16,
     "metadata": {},
     "output_type": "execute_result"
    },
    {
     "data": {
      "image/png": "[encoded data removed]",
      "text/plain": [
       "<Figure size 720x576 with 1 Axes>"
      ]
     },
     "metadata": {},
     "output_type": "display_data"
    }
   ],
   "source": [
    "plt.style.use('fivethirtyeight')\n",
    "plt.figure(figsize=(10,8))\n",
    "\n",
    "sns.boxplot(data = df)"
   ]
  },
  {
   "cell_type": "code",
   "execution_count": 17,
   "metadata": {},
   "outputs": [
    {
     "data": {
      "text/plain": [
       "Text(0.5, 1.0, 'Number of Faculty by Students')"
      ]
     },
     "execution_count": 17,
     "metadata": {},
     "output_type": "execute_result"
    },
    {
     "data": {
      "image/png": "[encoded data removed]",
      "text/plain": [
       "<Figure size 720x576 with 1 Axes>"
      ]
     },
     "metadata": {},
     "output_type": "display_data"
    }
   ],
   "source": [
    "plt.style.use('fivethirtyeight')\n",
    "plt.figure(figsize=(10,8))\n",
    "\n",
    "plt.scatter(df[\"number_of_faculty\"], df[\"number_of_students\"])\n",
    "plt.plot([0, 2000], [0, 50000], '--bo')\n",
    "plt.xlabel(\"Number of Faculty\")\n",
    "plt.ylabel(\"Number of Students\")\n",
    "plt.title(\"Number of Faculty by Students\")"
   ]
  },
  {
   "cell_type": "code",
   "execution_count": 18,
   "metadata": {},
   "outputs": [
    {
     "data": {
      "text/html": [
       "<div>\n",
       "<style scoped>\n",
       "    .dataframe tbody tr th:only-of-type {\n",
       "        vertical-align: middle;\n",
       "    }\n",
       "\n",
       "    .dataframe tbody tr th {\n",
       "        vertical-align: top;\n",
       "    }\n",
       "\n",
       "    .dataframe thead th {\n",
       "        text-align: right;\n",
       "    }\n",
       "</style>\n",
       "<table border=\"1\" class=\"dataframe\">\n",
       "  <thead>\n",
       "    <tr style=\"text-align: right;\">\n",
       "      <th></th>\n",
       "      <th>number_of_students</th>\n",
       "      <th>number_of_faculty</th>\n",
       "    </tr>\n",
       "  </thead>\n",
       "  <tbody>\n",
       "    <tr>\n",
       "      <th>count</th>\n",
       "      <td>1556.000000</td>\n",
       "      <td>1556.000000</td>\n",
       "    </tr>\n",
       "    <tr>\n",
       "      <th>mean</th>\n",
       "      <td>1197.143316</td>\n",
       "      <td>55.192802</td>\n",
       "    </tr>\n",
       "    <tr>\n",
       "      <th>std</th>\n",
       "      <td>2725.469181</td>\n",
       "      <td>100.663746</td>\n",
       "    </tr>\n",
       "    <tr>\n",
       "      <th>min</th>\n",
       "      <td>0.000000</td>\n",
       "      <td>1.000000</td>\n",
       "    </tr>\n",
       "    <tr>\n",
       "      <th>25%</th>\n",
       "      <td>134.000000</td>\n",
       "      <td>16.000000</td>\n",
       "    </tr>\n",
       "    <tr>\n",
       "      <th>50%</th>\n",
       "      <td>386.500000</td>\n",
       "      <td>26.000000</td>\n",
       "    </tr>\n",
       "    <tr>\n",
       "      <th>75%</th>\n",
       "      <td>995.250000</td>\n",
       "      <td>47.000000</td>\n",
       "    </tr>\n",
       "    <tr>\n",
       "      <th>max</th>\n",
       "      <td>43221.000000</td>\n",
       "      <td>1791.000000</td>\n",
       "    </tr>\n",
       "  </tbody>\n",
       "</table>\n",
       "</div>"
      ],
      "text/plain": [
       "       number_of_students  number_of_faculty\n",
       "count         1556.000000        1556.000000\n",
       "mean          1197.143316          55.192802\n",
       "std           2725.469181         100.663746\n",
       "min              0.000000           1.000000\n",
       "25%            134.000000          16.000000\n",
       "50%            386.500000          26.000000\n",
       "75%            995.250000          47.000000\n",
       "max          43221.000000        1791.000000"
      ]
     },
     "execution_count": 18,
     "metadata": {},
     "output_type": "execute_result"
    }
   ],
   "source": [
    "df.describe()"
   ]
  },
  {
   "cell_type": "code",
   "execution_count": 19,
   "metadata": {},
   "outputs": [],
   "source": [
    "from sklearn.linear_model import LinearRegression\n",
    "\n",
    "X = df[[\"number_of_faculty\"]]"
   ]
  },
  {
   "cell_type": "code",
   "execution_count": 20,
   "metadata": {},
   "outputs": [
    {
     "data": {
      "text/html": [
       "<div>\n",
       "<style scoped>\n",
       "    .dataframe tbody tr th:only-of-type {\n",
       "        vertical-align: middle;\n",
       "    }\n",
       "\n",
       "    .dataframe tbody tr th {\n",
       "        vertical-align: top;\n",
       "    }\n",
       "\n",
       "    .dataframe thead th {\n",
       "        text-align: right;\n",
       "    }\n",
       "</style>\n",
       "<table border=\"1\" class=\"dataframe\">\n",
       "  <thead>\n",
       "    <tr style=\"text-align: right;\">\n",
       "      <th></th>\n",
       "      <th>number_of_faculty</th>\n",
       "    </tr>\n",
       "  </thead>\n",
       "  <tbody>\n",
       "    <tr>\n",
       "      <th>0</th>\n",
       "      <td>26.0</td>\n",
       "    </tr>\n",
       "    <tr>\n",
       "      <th>1</th>\n",
       "      <td>31.0</td>\n",
       "    </tr>\n",
       "    <tr>\n",
       "      <th>2</th>\n",
       "      <td>14.0</td>\n",
       "    </tr>\n",
       "    <tr>\n",
       "      <th>3</th>\n",
       "      <td>11.0</td>\n",
       "    </tr>\n",
       "    <tr>\n",
       "      <th>4</th>\n",
       "      <td>15.0</td>\n",
       "    </tr>\n",
       "  </tbody>\n",
       "</table>\n",
       "</div>"
      ],
      "text/plain": [
       "   number_of_faculty\n",
       "0               26.0\n",
       "1               31.0\n",
       "2               14.0\n",
       "3               11.0\n",
       "4               15.0"
      ]
     },
     "execution_count": 20,
     "metadata": {},
     "output_type": "execute_result"
    }
   ],
   "source": [
    "X.head()"
   ]
  },
  {
   "cell_type": "code",
   "execution_count": 21,
   "metadata": {},
   "outputs": [
    {
     "data": {
      "text/plain": [
       "LinearRegression()"
      ]
     },
     "execution_count": 21,
     "metadata": {},
     "output_type": "execute_result"
    }
   ],
   "source": [
    "linear_model = LinearRegression()\n",
    "linear_model.fit(X, df[\"number_of_students\"])"
   ]
  },
  {
   "cell_type": "code",
   "execution_count": 22,
   "metadata": {},
   "outputs": [
    {
     "name": "stdout",
     "output_type": "stream",
     "text": [
      "Coefficient values[24.32509776]\n"
     ]
    }
   ],
   "source": [
    "print(f\"Coefficient values{linear_model.coef_}\")"
   ]
  },
  {
   "cell_type": "code",
   "execution_count": 23,
   "metadata": {},
   "outputs": [
    {
     "data": {
      "text/html": [
       "<div>\n",
       "<style scoped>\n",
       "    .dataframe tbody tr th:only-of-type {\n",
       "        vertical-align: middle;\n",
       "    }\n",
       "\n",
       "    .dataframe tbody tr th {\n",
       "        vertical-align: top;\n",
       "    }\n",
       "\n",
       "    .dataframe thead th {\n",
       "        text-align: right;\n",
       "    }\n",
       "</style>\n",
       "<table border=\"1\" class=\"dataframe\">\n",
       "  <thead>\n",
       "    <tr style=\"text-align: right;\">\n",
       "      <th></th>\n",
       "      <th>0</th>\n",
       "      <th>1</th>\n",
       "    </tr>\n",
       "  </thead>\n",
       "  <tbody>\n",
       "    <tr>\n",
       "      <th>0</th>\n",
       "      <td>number_of_faculty</td>\n",
       "      <td>24.325098</td>\n",
       "    </tr>\n",
       "  </tbody>\n",
       "</table>\n",
       "</div>"
      ],
      "text/plain": [
       "                   0          1\n",
       "0  number_of_faculty  24.325098"
      ]
     },
     "execution_count": 23,
     "metadata": {},
     "output_type": "execute_result"
    }
   ],
   "source": [
    "pd.DataFrame(list(zip(X.columns, linear_model.coef_)))"
   ]
  },
  {
   "cell_type": "code",
   "execution_count": 24,
   "metadata": {},
   "outputs": [],
   "source": [
    "predictions = linear_model.predict(X)"
   ]
  },
  {
   "cell_type": "code",
   "execution_count": 25,
   "metadata": {},
   "outputs": [
    {
     "name": "stderr",
     "output_type": "stream",
     "text": [
      "<ipython-input-25-81110d4b94fb>:1: SettingWithCopyWarning: \n",
      "A value is trying to be set on a copy of a slice from a DataFrame.\n",
      "Try using .loc[row_indexer,col_indexer] = value instead\n",
      "\n",
      "See the caveats in the documentation: https://pandas.pydata.org/pandas-docs/stable/user_guide/indexing.html#returning-a-view-versus-a-copy\n",
      "  df[\"PRED\"] = predictions\n"
     ]
    }
   ],
   "source": [
    "df[\"PRED\"] = predictions"
   ]
  },
  {
   "cell_type": "code",
   "execution_count": 26,
   "metadata": {},
   "outputs": [
    {
     "data": {
      "text/html": [
       "<div>\n",
       "<style scoped>\n",
       "    .dataframe tbody tr th:only-of-type {\n",
       "        vertical-align: middle;\n",
       "    }\n",
       "\n",
       "    .dataframe tbody tr th {\n",
       "        vertical-align: top;\n",
       "    }\n",
       "\n",
       "    .dataframe thead th {\n",
       "        text-align: right;\n",
       "    }\n",
       "</style>\n",
       "<table border=\"1\" class=\"dataframe\">\n",
       "  <thead>\n",
       "    <tr style=\"text-align: right;\">\n",
       "      <th></th>\n",
       "      <th>higher_education_institution</th>\n",
       "      <th>number_of_faculty</th>\n",
       "      <th>number_of_students</th>\n",
       "      <th>PRED</th>\n",
       "    </tr>\n",
       "  </thead>\n",
       "  <tbody>\n",
       "    <tr>\n",
       "      <th>0</th>\n",
       "      <td>The Adelphi College</td>\n",
       "      <td>26.0</td>\n",
       "      <td>405.0</td>\n",
       "      <td>487.025552</td>\n",
       "    </tr>\n",
       "    <tr>\n",
       "      <th>1</th>\n",
       "      <td>Malasiqui Agno Valley College</td>\n",
       "      <td>31.0</td>\n",
       "      <td>450.0</td>\n",
       "      <td>608.651041</td>\n",
       "    </tr>\n",
       "    <tr>\n",
       "      <th>2</th>\n",
       "      <td>Agoo Computer College Philippines</td>\n",
       "      <td>14.0</td>\n",
       "      <td>56.0</td>\n",
       "      <td>195.124379</td>\n",
       "    </tr>\n",
       "    <tr>\n",
       "      <th>3</th>\n",
       "      <td>Asbury College</td>\n",
       "      <td>11.0</td>\n",
       "      <td>357.0</td>\n",
       "      <td>122.149086</td>\n",
       "    </tr>\n",
       "    <tr>\n",
       "      <th>4</th>\n",
       "      <td>Asia Career College Foundation</td>\n",
       "      <td>15.0</td>\n",
       "      <td>212.0</td>\n",
       "      <td>219.449477</td>\n",
       "    </tr>\n",
       "    <tr>\n",
       "      <th>...</th>\n",
       "      <td>...</td>\n",
       "      <td>...</td>\n",
       "      <td>...</td>\n",
       "      <td>...</td>\n",
       "    </tr>\n",
       "    <tr>\n",
       "      <th>1596</th>\n",
       "      <td>Philippine Central Islands College Foundation</td>\n",
       "      <td>20.0</td>\n",
       "      <td>136.0</td>\n",
       "      <td>341.074966</td>\n",
       "    </tr>\n",
       "    <tr>\n",
       "      <th>1597</th>\n",
       "      <td>ACLC College of Calapan</td>\n",
       "      <td>19.0</td>\n",
       "      <td>201.0</td>\n",
       "      <td>316.749868</td>\n",
       "    </tr>\n",
       "    <tr>\n",
       "      <th>1598</th>\n",
       "      <td>Pinamalayan Maritime Foundation and Technologi...</td>\n",
       "      <td>22.0</td>\n",
       "      <td>365.0</td>\n",
       "      <td>389.725161</td>\n",
       "    </tr>\n",
       "    <tr>\n",
       "      <th>1599</th>\n",
       "      <td>STI College-Puerto Princesa</td>\n",
       "      <td>15.0</td>\n",
       "      <td>139.0</td>\n",
       "      <td>219.449477</td>\n",
       "    </tr>\n",
       "    <tr>\n",
       "      <th>1601</th>\n",
       "      <td>Luna Goco College-Roxas</td>\n",
       "      <td>6.0</td>\n",
       "      <td>4.0</td>\n",
       "      <td>0.523597</td>\n",
       "    </tr>\n",
       "  </tbody>\n",
       "</table>\n",
       "<p>1556 rows × 4 columns</p>\n",
       "</div>"
      ],
      "text/plain": [
       "                           higher_education_institution  number_of_faculty  \\\n",
       "0                                   The Adelphi College               26.0   \n",
       "1                         Malasiqui Agno Valley College               31.0   \n",
       "2                     Agoo Computer College Philippines               14.0   \n",
       "3                                        Asbury College               11.0   \n",
       "4                        Asia Career College Foundation               15.0   \n",
       "...                                                 ...                ...   \n",
       "1596      Philippine Central Islands College Foundation               20.0   \n",
       "1597                            ACLC College of Calapan               19.0   \n",
       "1598  Pinamalayan Maritime Foundation and Technologi...               22.0   \n",
       "1599                        STI College-Puerto Princesa               15.0   \n",
       "1601                            Luna Goco College-Roxas                6.0   \n",
       "\n",
       "      number_of_students        PRED  \n",
       "0                  405.0  487.025552  \n",
       "1                  450.0  608.651041  \n",
       "2                   56.0  195.124379  \n",
       "3                  357.0  122.149086  \n",
       "4                  212.0  219.449477  \n",
       "...                  ...         ...  \n",
       "1596               136.0  341.074966  \n",
       "1597               201.0  316.749868  \n",
       "1598               365.0  389.725161  \n",
       "1599               139.0  219.449477  \n",
       "1601                 4.0    0.523597  \n",
       "\n",
       "[1556 rows x 4 columns]"
      ]
     },
     "execution_count": 26,
     "metadata": {},
     "output_type": "execute_result"
    }
   ],
   "source": [
    "df[[\"higher_education_institution\", \"number_of_faculty\", \"number_of_students\", \"PRED\"]]"
   ]
  },
  {
   "cell_type": "code",
   "execution_count": 30,
   "metadata": {},
   "outputs": [
    {
     "data": {
      "text/html": [
       "<div>\n",
       "<style scoped>\n",
       "    .dataframe tbody tr th:only-of-type {\n",
       "        vertical-align: middle;\n",
       "    }\n",
       "\n",
       "    .dataframe tbody tr th {\n",
       "        vertical-align: top;\n",
       "    }\n",
       "\n",
       "    .dataframe thead th {\n",
       "        text-align: right;\n",
       "    }\n",
       "</style>\n",
       "<table border=\"1\" class=\"dataframe\">\n",
       "  <thead>\n",
       "    <tr style=\"text-align: right;\">\n",
       "      <th></th>\n",
       "      <th>region</th>\n",
       "      <th>higher_education_institution</th>\n",
       "      <th>number_of_students</th>\n",
       "      <th>number_of_faculty</th>\n",
       "      <th>faculty_student_ratio</th>\n",
       "      <th>PRED</th>\n",
       "    </tr>\n",
       "  </thead>\n",
       "  <tbody>\n",
       "    <tr>\n",
       "      <th>34</th>\n",
       "      <td>Region I</td>\n",
       "      <td>Saint Louis College-San Fernando City</td>\n",
       "      <td>5066.0</td>\n",
       "      <td>176.0</td>\n",
       "      <td>1 is to 29</td>\n",
       "      <td>4135.790216</td>\n",
       "    </tr>\n",
       "    <tr>\n",
       "      <th>37</th>\n",
       "      <td>Region I</td>\n",
       "      <td>San Carlos College</td>\n",
       "      <td>648.0</td>\n",
       "      <td>54.0</td>\n",
       "      <td>1 is to 12</td>\n",
       "      <td>1168.128290</td>\n",
       "    </tr>\n",
       "    <tr>\n",
       "      <th>50</th>\n",
       "      <td>Region I</td>\n",
       "      <td>STI College-San Fernando City, La Union</td>\n",
       "      <td>656.0</td>\n",
       "      <td>18.0</td>\n",
       "      <td>1 is to 36</td>\n",
       "      <td>292.424770</td>\n",
       "    </tr>\n",
       "    <tr>\n",
       "      <th>56</th>\n",
       "      <td>Region I</td>\n",
       "      <td>Colegio San Jose De Alaminos</td>\n",
       "      <td>103.0</td>\n",
       "      <td>19.0</td>\n",
       "      <td>1 is to 5</td>\n",
       "      <td>316.749868</td>\n",
       "    </tr>\n",
       "    <tr>\n",
       "      <th>80</th>\n",
       "      <td>Region I</td>\n",
       "      <td>PIMSAT Colleges-San Carlos City</td>\n",
       "      <td>158.0</td>\n",
       "      <td>11.0</td>\n",
       "      <td>1 is to 14</td>\n",
       "      <td>122.149086</td>\n",
       "    </tr>\n",
       "    <tr>\n",
       "      <th>...</th>\n",
       "      <td>...</td>\n",
       "      <td>...</td>\n",
       "      <td>...</td>\n",
       "      <td>...</td>\n",
       "      <td>...</td>\n",
       "      <td>...</td>\n",
       "    </tr>\n",
       "    <tr>\n",
       "      <th>1565</th>\n",
       "      <td>Region IV-B</td>\n",
       "      <td>Divine Word College of San Jose</td>\n",
       "      <td>1442.0</td>\n",
       "      <td>54.0</td>\n",
       "      <td>1 is to 27</td>\n",
       "      <td>1168.128290</td>\n",
       "    </tr>\n",
       "    <tr>\n",
       "      <th>1575</th>\n",
       "      <td>Region IV-B</td>\n",
       "      <td>San Francisco Javier College</td>\n",
       "      <td>225.0</td>\n",
       "      <td>17.0</td>\n",
       "      <td>1 is to 13</td>\n",
       "      <td>268.099673</td>\n",
       "    </tr>\n",
       "    <tr>\n",
       "      <th>1576</th>\n",
       "      <td>Region IV-B</td>\n",
       "      <td>Santa Cruz Institute</td>\n",
       "      <td>619.0</td>\n",
       "      <td>21.0</td>\n",
       "      <td>1 is to 29</td>\n",
       "      <td>365.400064</td>\n",
       "    </tr>\n",
       "    <tr>\n",
       "      <th>1577</th>\n",
       "      <td>Region IV-B</td>\n",
       "      <td>Seminario De San Jose</td>\n",
       "      <td>33.0</td>\n",
       "      <td>11.0</td>\n",
       "      <td>1 is to 3</td>\n",
       "      <td>122.149086</td>\n",
       "    </tr>\n",
       "    <tr>\n",
       "      <th>1584</th>\n",
       "      <td>Region IV-B</td>\n",
       "      <td>San Lorenzo Ruiz Seminary</td>\n",
       "      <td>24.0</td>\n",
       "      <td>10.0</td>\n",
       "      <td>1 is to 2</td>\n",
       "      <td>97.823988</td>\n",
       "    </tr>\n",
       "  </tbody>\n",
       "</table>\n",
       "<p>87 rows × 6 columns</p>\n",
       "</div>"
      ],
      "text/plain": [
       "           region             higher_education_institution  \\\n",
       "34       Region I    Saint Louis College-San Fernando City   \n",
       "37       Region I                       San Carlos College   \n",
       "50       Region I  STI College-San Fernando City, La Union   \n",
       "56       Region I             Colegio San Jose De Alaminos   \n",
       "80       Region I          PIMSAT Colleges-San Carlos City   \n",
       "...           ...                                      ...   \n",
       "1565  Region IV-B          Divine Word College of San Jose   \n",
       "1575  Region IV-B             San Francisco Javier College   \n",
       "1576  Region IV-B                     Santa Cruz Institute   \n",
       "1577  Region IV-B                    Seminario De San Jose   \n",
       "1584  Region IV-B                San Lorenzo Ruiz Seminary   \n",
       "\n",
       "      number_of_students  number_of_faculty faculty_student_ratio         PRED  \n",
       "34                5066.0              176.0            1 is to 29  4135.790216  \n",
       "37                 648.0               54.0            1 is to 12  1168.128290  \n",
       "50                 656.0               18.0            1 is to 36   292.424770  \n",
       "56                 103.0               19.0             1 is to 5   316.749868  \n",
       "80                 158.0               11.0            1 is to 14   122.149086  \n",
       "...                  ...                ...                   ...          ...  \n",
       "1565              1442.0               54.0            1 is to 27  1168.128290  \n",
       "1575               225.0               17.0            1 is to 13   268.099673  \n",
       "1576               619.0               21.0            1 is to 29   365.400064  \n",
       "1577                33.0               11.0             1 is to 3   122.149086  \n",
       "1584                24.0               10.0             1 is to 2    97.823988  \n",
       "\n",
       "[87 rows x 6 columns]"
      ]
     },
     "execution_count": 30,
     "metadata": {},
     "output_type": "execute_result"
    }
   ],
   "source": [
    "df[df[\"higher_education_institution\"].str.contains(\"San\")]"
   ]
  },
  {
   "cell_type": "code",
   "execution_count": 31,
   "metadata": {},
   "outputs": [
    {
     "data": {
      "text/plain": [
       "Text(0.5, 1.0, 'Actual vs Predicted Plot')"
      ]
     },
     "execution_count": 31,
     "metadata": {},
     "output_type": "execute_result"
    },
    {
     "data": {
      "image/png": "[encoded data removed]",
      "text/plain": [
       "<Figure size 720x576 with 1 Axes>"
      ]
     },
     "metadata": {},
     "output_type": "display_data"
    }
   ],
   "source": [
    "plt.style.use('fivethirtyeight')\n",
    "plt.figure(figsize=(10,8))\n",
    "\n",
    "plt.scatter(df[\"number_of_students\"], df[\"PRED\"])\n",
    "plt.xlabel(\"Students Actual\")\n",
    "plt.ylabel(\"Students Predicted\")\n",
    "plt.title(\"Actual vs Predicted Plot\")"
   ]
  },
  {
   "cell_type": "code",
   "execution_count": 32,
   "metadata": {},
   "outputs": [
    {
     "data": {
      "text/plain": [
       "1196.38964022379"
      ]
     },
     "execution_count": 32,
     "metadata": {},
     "output_type": "execute_result"
    }
   ],
   "source": [
    "import math\n",
    "mean_squared_error = np.mean((df[\"number_of_students\"] - linear_model.predict(X))**2)\n",
    "math.sqrt(mean_squared_error)"
   ]
  },
  {
   "cell_type": "code",
   "execution_count": 33,
   "metadata": {},
   "outputs": [
    {
     "data": {
      "text/plain": [
       "0.807184503167262"
      ]
     },
     "execution_count": 33,
     "metadata": {},
     "output_type": "execute_result"
    }
   ],
   "source": [
    "linear_model.score(X, df[\"number_of_students\"])"
   ]
  },
  {
   "cell_type": "code",
   "execution_count": null,
   "metadata": {},
   "outputs": [],
   "source": [
    "ax = sns.scatterplot(x=\"number_of_faculty\", y=\"number_of_students\", data=df)"
   ]
  },
  {
   "cell_type": "code",
   "execution_count": null,
   "metadata": {},
   "outputs": [],
   "source": []
  }
 ],
 "metadata": {
  "kernelspec": {
   "display_name": "Python 3 (ipykernel)",
   "language": "python",
   "name": "python3"
  },
  "language_info": {
   "codemirror_mode": {
    "name": "ipython",
    "version": 3
   },
   "file_extension": ".py",
   "mimetype": "text/x-python",
   "name": "python",
   "nbconvert_exporter": "python",
   "pygments_lexer": "ipython3",
   "version": "3.9.7"
  }
 },
 "nbformat": 4,
 "nbformat_minor": 4
}
